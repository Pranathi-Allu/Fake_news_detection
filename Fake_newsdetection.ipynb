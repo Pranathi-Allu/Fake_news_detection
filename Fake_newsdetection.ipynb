{
 "cells": [
  {
   "cell_type": "code",
   "execution_count": 35,
   "id": "8b1bd714-3a27-4bd0-9edf-fd09494ad53e",
   "metadata": {},
   "outputs": [],
   "source": [
    "import pandas as pd\n",
    "import re\n",
    "import nltk\n",
    "from sklearn.feature_extraction.text import CountVectorizer\n",
    "from sklearn.model_selection import train_test_split\n",
    "from sklearn.linear_model import LogisticRegression\n",
    "from sklearn.metrics import accuracy_score,confusion_matrix\n",
    "from sklearn.metrics import classification_report"
   ]
  },
  {
   "cell_type": "code",
   "execution_count": 2,
   "id": "b7038d6f-c4c1-4abd-a069-c61ac08a709c",
   "metadata": {},
   "outputs": [
    {
     "name": "stdout",
     "output_type": "stream",
     "text": [
      "                                               title  \\\n",
      "0   Donald Trump Sends Out Embarrassing New Year’...   \n",
      "1   Drunk Bragging Trump Staffer Started Russian ...   \n",
      "2   Sheriff David Clarke Becomes An Internet Joke...   \n",
      "3   Trump Is So Obsessed He Even Has Obama’s Name...   \n",
      "4   Pope Francis Just Called Out Donald Trump Dur...   \n",
      "\n",
      "                                                text subject  \\\n",
      "0  Donald Trump just couldn t wish all Americans ...    News   \n",
      "1  House Intelligence Committee Chairman Devin Nu...    News   \n",
      "2  On Friday, it was revealed that former Milwauk...    News   \n",
      "3  On Christmas day, Donald Trump announced that ...    News   \n",
      "4  Pope Francis used his annual Christmas Day mes...    News   \n",
      "\n",
      "                date  \n",
      "0  December 31, 2017  \n",
      "1  December 31, 2017  \n",
      "2  December 30, 2017  \n",
      "3  December 29, 2017  \n",
      "4  December 25, 2017  \n"
     ]
    }
   ],
   "source": [
    "df_fake = pd.read_csv(r\"C:\\ML Projects\\Fake News Detection\\Fake.csv\")\n",
    "print(df_fake.head())"
   ]
  },
  {
   "cell_type": "code",
   "execution_count": 3,
   "id": "383e171d-e2c2-420d-a729-ef8f2d68c8f7",
   "metadata": {},
   "outputs": [
    {
     "name": "stdout",
     "output_type": "stream",
     "text": [
      "                                               title  \\\n",
      "0  As U.S. budget fight looms, Republicans flip t...   \n",
      "1  U.S. military to accept transgender recruits o...   \n",
      "2  Senior U.S. Republican senator: 'Let Mr. Muell...   \n",
      "3  FBI Russia probe helped by Australian diplomat...   \n",
      "4  Trump wants Postal Service to charge 'much mor...   \n",
      "\n",
      "                                                text       subject  \\\n",
      "0  WASHINGTON (Reuters) - The head of a conservat...  politicsNews   \n",
      "1  WASHINGTON (Reuters) - Transgender people will...  politicsNews   \n",
      "2  WASHINGTON (Reuters) - The special counsel inv...  politicsNews   \n",
      "3  WASHINGTON (Reuters) - Trump campaign adviser ...  politicsNews   \n",
      "4  SEATTLE/WASHINGTON (Reuters) - President Donal...  politicsNews   \n",
      "\n",
      "                 date  \n",
      "0  December 31, 2017   \n",
      "1  December 29, 2017   \n",
      "2  December 31, 2017   \n",
      "3  December 30, 2017   \n",
      "4  December 29, 2017   \n"
     ]
    }
   ],
   "source": [
    "df_true = pd.read_csv(r\"C:\\ML Projects\\Fake News Detection\\True.csv\")\n",
    "print(df_true.head())"
   ]
  },
  {
   "cell_type": "code",
   "execution_count": 4,
   "id": "c29c69ed-830d-4a8e-9ea4-0eb31c2587b2",
   "metadata": {},
   "outputs": [],
   "source": [
    "df_fake[\"target\"] = 0\n",
    "df_true[\"target\"] = 1"
   ]
  },
  {
   "cell_type": "code",
   "execution_count": 5,
   "id": "c0e7bfe7-9c28-4ef0-933b-b0558f3c436a",
   "metadata": {},
   "outputs": [
    {
     "name": "stdout",
     "output_type": "stream",
     "text": [
      "                                                   title  \\\n",
      "0       Donald Trump Sends Out Embarrassing New Year’...   \n",
      "1       Drunk Bragging Trump Staffer Started Russian ...   \n",
      "2       Sheriff David Clarke Becomes An Internet Joke...   \n",
      "3       Trump Is So Obsessed He Even Has Obama’s Name...   \n",
      "4       Pope Francis Just Called Out Donald Trump Dur...   \n",
      "...                                                  ...   \n",
      "44893  'Fully committed' NATO backs new U.S. approach...   \n",
      "44894  LexisNexis withdrew two products from Chinese ...   \n",
      "44895  Minsk cultural hub becomes haven from authorities   \n",
      "44896  Vatican upbeat on possibility of Pope Francis ...   \n",
      "44897  Indonesia to buy $1.14 billion worth of Russia...   \n",
      "\n",
      "                                                    text    subject  \\\n",
      "0      Donald Trump just couldn t wish all Americans ...       News   \n",
      "1      House Intelligence Committee Chairman Devin Nu...       News   \n",
      "2      On Friday, it was revealed that former Milwauk...       News   \n",
      "3      On Christmas day, Donald Trump announced that ...       News   \n",
      "4      Pope Francis used his annual Christmas Day mes...       News   \n",
      "...                                                  ...        ...   \n",
      "44893  BRUSSELS (Reuters) - NATO allies on Tuesday we...  worldnews   \n",
      "44894  LONDON (Reuters) - LexisNexis, a provider of l...  worldnews   \n",
      "44895  MINSK (Reuters) - In the shadow of disused Sov...  worldnews   \n",
      "44896  MOSCOW (Reuters) - Vatican Secretary of State ...  worldnews   \n",
      "44897  JAKARTA (Reuters) - Indonesia will buy 11 Sukh...  worldnews   \n",
      "\n",
      "                    date  target  \n",
      "0      December 31, 2017       0  \n",
      "1      December 31, 2017       0  \n",
      "2      December 30, 2017       0  \n",
      "3      December 29, 2017       0  \n",
      "4      December 25, 2017       0  \n",
      "...                  ...     ...  \n",
      "44893   August 22, 2017        1  \n",
      "44894   August 22, 2017        1  \n",
      "44895   August 22, 2017        1  \n",
      "44896   August 22, 2017        1  \n",
      "44897   August 22, 2017        1  \n",
      "\n",
      "[44898 rows x 5 columns]\n"
     ]
    }
   ],
   "source": [
    "df_merged = pd.concat([df_fake,df_true],ignore_index=True)\n",
    "print(df_merged)"
   ]
  },
  {
   "cell_type": "code",
   "execution_count": 7,
   "id": "7d889e1e-77ac-453a-9734-1b85cd473b7d",
   "metadata": {},
   "outputs": [],
   "source": [
    "#merging the title and text coloumn to a single coloumn \"content\"\n",
    "df_merged[\"content\"] = df_merged[\"title\"] + \" \" + df_merged[\"text\"] "
   ]
  },
  {
   "cell_type": "code",
   "execution_count": 8,
   "id": "4c1b16e1-a1ef-462f-912c-ad9b4c20b879",
   "metadata": {},
   "outputs": [
    {
     "data": {
      "text/html": [
       "<div>\n",
       "<style scoped>\n",
       "    .dataframe tbody tr th:only-of-type {\n",
       "        vertical-align: middle;\n",
       "    }\n",
       "\n",
       "    .dataframe tbody tr th {\n",
       "        vertical-align: top;\n",
       "    }\n",
       "\n",
       "    .dataframe thead th {\n",
       "        text-align: right;\n",
       "    }\n",
       "</style>\n",
       "<table border=\"1\" class=\"dataframe\">\n",
       "  <thead>\n",
       "    <tr style=\"text-align: right;\">\n",
       "      <th></th>\n",
       "      <th>title</th>\n",
       "      <th>text</th>\n",
       "      <th>subject</th>\n",
       "      <th>date</th>\n",
       "      <th>target</th>\n",
       "      <th>content</th>\n",
       "    </tr>\n",
       "  </thead>\n",
       "  <tbody>\n",
       "    <tr>\n",
       "      <th>0</th>\n",
       "      <td>Powerful Koch brothers rebuff big donors' call...</td>\n",
       "      <td>COLORADO SPRINGS, Colo. (Reuters) - The billio...</td>\n",
       "      <td>politicsNews</td>\n",
       "      <td>August 1, 2016</td>\n",
       "      <td>1</td>\n",
       "      <td>Powerful Koch brothers rebuff big donors' call...</td>\n",
       "    </tr>\n",
       "    <tr>\n",
       "      <th>1</th>\n",
       "      <td>Trump Gave A Green Light To Sexist ‘Lewinsky’...</td>\n",
       "      <td>Donald Trump accused Hillary Clinton of playin...</td>\n",
       "      <td>News</td>\n",
       "      <td>April 29, 2016</td>\n",
       "      <td>0</td>\n",
       "      <td>Trump Gave A Green Light To Sexist ‘Lewinsky’...</td>\n",
       "    </tr>\n",
       "    <tr>\n",
       "      <th>2</th>\n",
       "      <td>FBI FINALLY Does Its Job, Starts Monitoring O...</td>\n",
       "      <td>Some of America s pretend patriots have taken ...</td>\n",
       "      <td>News</td>\n",
       "      <td>January 4, 2016</td>\n",
       "      <td>0</td>\n",
       "      <td>FBI FINALLY Does Its Job, Starts Monitoring O...</td>\n",
       "    </tr>\n",
       "    <tr>\n",
       "      <th>3</th>\n",
       "      <td>WOW! Christian Author Gives UNEXPECTED And BRI...</td>\n",
       "      <td>Brigitte Gabriel was born in the Marjeyoun Dis...</td>\n",
       "      <td>left-news</td>\n",
       "      <td>Jan 13, 2017</td>\n",
       "      <td>0</td>\n",
       "      <td>WOW! Christian Author Gives UNEXPECTED And BRI...</td>\n",
       "    </tr>\n",
       "    <tr>\n",
       "      <th>4</th>\n",
       "      <td>Michael Jordan ‘Can No Longer Stay Silent’ On...</td>\n",
       "      <td>Michael Jordan is quite possibly the best bask...</td>\n",
       "      <td>News</td>\n",
       "      <td>July 25, 2016</td>\n",
       "      <td>0</td>\n",
       "      <td>Michael Jordan ‘Can No Longer Stay Silent’ On...</td>\n",
       "    </tr>\n",
       "    <tr>\n",
       "      <th>...</th>\n",
       "      <td>...</td>\n",
       "      <td>...</td>\n",
       "      <td>...</td>\n",
       "      <td>...</td>\n",
       "      <td>...</td>\n",
       "      <td>...</td>\n",
       "    </tr>\n",
       "    <tr>\n",
       "      <th>44893</th>\n",
       "      <td>Trump's son says 'happy' to work with Senate i...</td>\n",
       "      <td>WASHINGTON (Reuters) - President Donald Trump’...</td>\n",
       "      <td>politicsNews</td>\n",
       "      <td>July 10, 2017</td>\n",
       "      <td>1</td>\n",
       "      <td>Trump's son says 'happy' to work with Senate i...</td>\n",
       "    </tr>\n",
       "    <tr>\n",
       "      <th>44894</th>\n",
       "      <td>Trump declines to say if he will visit Korean ...</td>\n",
       "      <td>WASHINGTON (Reuters) - U.S. President Donald T...</td>\n",
       "      <td>worldnews</td>\n",
       "      <td>October 25, 2017</td>\n",
       "      <td>1</td>\n",
       "      <td>Trump declines to say if he will visit Korean ...</td>\n",
       "    </tr>\n",
       "    <tr>\n",
       "      <th>44895</th>\n",
       "      <td>OH THE IRONY! NANCY PELOSI: “Trump’s family sh...</td>\n",
       "      <td>Appearing on MSNBC s  Morning Joe,  House Mino...</td>\n",
       "      <td>politics</td>\n",
       "      <td>Jun 9, 2017</td>\n",
       "      <td>0</td>\n",
       "      <td>OH THE IRONY! NANCY PELOSI: “Trump’s family sh...</td>\n",
       "    </tr>\n",
       "    <tr>\n",
       "      <th>44896</th>\n",
       "      <td>It’s Not Over Yet: Jill Stein Files Federal L...</td>\n",
       "      <td>Green Party presidential nominee Jill Stein ha...</td>\n",
       "      <td>News</td>\n",
       "      <td>December 5, 2016</td>\n",
       "      <td>0</td>\n",
       "      <td>It’s Not Over Yet: Jill Stein Files Federal L...</td>\n",
       "    </tr>\n",
       "    <tr>\n",
       "      <th>44897</th>\n",
       "      <td>“DEAL WITH FACTS!”: Tom Brokaw Calls Out Polit...</td>\n",
       "      <td>Veteran newscaster Tom Brokaw called out polit...</td>\n",
       "      <td>politics</td>\n",
       "      <td>May 13, 2017</td>\n",
       "      <td>0</td>\n",
       "      <td>“DEAL WITH FACTS!”: Tom Brokaw Calls Out Polit...</td>\n",
       "    </tr>\n",
       "  </tbody>\n",
       "</table>\n",
       "<p>44898 rows × 6 columns</p>\n",
       "</div>"
      ],
      "text/plain": [
       "                                                   title  \\\n",
       "0      Powerful Koch brothers rebuff big donors' call...   \n",
       "1       Trump Gave A Green Light To Sexist ‘Lewinsky’...   \n",
       "2       FBI FINALLY Does Its Job, Starts Monitoring O...   \n",
       "3      WOW! Christian Author Gives UNEXPECTED And BRI...   \n",
       "4       Michael Jordan ‘Can No Longer Stay Silent’ On...   \n",
       "...                                                  ...   \n",
       "44893  Trump's son says 'happy' to work with Senate i...   \n",
       "44894  Trump declines to say if he will visit Korean ...   \n",
       "44895  OH THE IRONY! NANCY PELOSI: “Trump’s family sh...   \n",
       "44896   It’s Not Over Yet: Jill Stein Files Federal L...   \n",
       "44897  “DEAL WITH FACTS!”: Tom Brokaw Calls Out Polit...   \n",
       "\n",
       "                                                    text       subject  \\\n",
       "0      COLORADO SPRINGS, Colo. (Reuters) - The billio...  politicsNews   \n",
       "1      Donald Trump accused Hillary Clinton of playin...          News   \n",
       "2      Some of America s pretend patriots have taken ...          News   \n",
       "3      Brigitte Gabriel was born in the Marjeyoun Dis...     left-news   \n",
       "4      Michael Jordan is quite possibly the best bask...          News   \n",
       "...                                                  ...           ...   \n",
       "44893  WASHINGTON (Reuters) - President Donald Trump’...  politicsNews   \n",
       "44894  WASHINGTON (Reuters) - U.S. President Donald T...     worldnews   \n",
       "44895  Appearing on MSNBC s  Morning Joe,  House Mino...      politics   \n",
       "44896  Green Party presidential nominee Jill Stein ha...          News   \n",
       "44897  Veteran newscaster Tom Brokaw called out polit...      politics   \n",
       "\n",
       "                    date  target  \\\n",
       "0        August 1, 2016        1   \n",
       "1         April 29, 2016       0   \n",
       "2        January 4, 2016       0   \n",
       "3           Jan 13, 2017       0   \n",
       "4          July 25, 2016       0   \n",
       "...                  ...     ...   \n",
       "44893     July 10, 2017        1   \n",
       "44894  October 25, 2017        1   \n",
       "44895        Jun 9, 2017       0   \n",
       "44896   December 5, 2016       0   \n",
       "44897       May 13, 2017       0   \n",
       "\n",
       "                                                 content  \n",
       "0      Powerful Koch brothers rebuff big donors' call...  \n",
       "1       Trump Gave A Green Light To Sexist ‘Lewinsky’...  \n",
       "2       FBI FINALLY Does Its Job, Starts Monitoring O...  \n",
       "3      WOW! Christian Author Gives UNEXPECTED And BRI...  \n",
       "4       Michael Jordan ‘Can No Longer Stay Silent’ On...  \n",
       "...                                                  ...  \n",
       "44893  Trump's son says 'happy' to work with Senate i...  \n",
       "44894  Trump declines to say if he will visit Korean ...  \n",
       "44895  OH THE IRONY! NANCY PELOSI: “Trump’s family sh...  \n",
       "44896   It’s Not Over Yet: Jill Stein Files Federal L...  \n",
       "44897  “DEAL WITH FACTS!”: Tom Brokaw Calls Out Polit...  \n",
       "\n",
       "[44898 rows x 6 columns]"
      ]
     },
     "execution_count": 8,
     "metadata": {},
     "output_type": "execute_result"
    }
   ],
   "source": [
    "# suffling the rows so that not all fake and real are at one time\n",
    "shuffled_df = df_merged.sample(frac=1).reset_index(drop=True)\n",
    "shuffled_df"
   ]
  },
  {
   "cell_type": "code",
   "execution_count": 10,
   "id": "a7aa2f72-4523-4f94-864b-26fac4c5010d",
   "metadata": {},
   "outputs": [
    {
     "data": {
      "text/plain": [
       "0        powerful koch brothers rebuff big donors' call...\n",
       "1         trump gave a green light to sexist ‘lewinsky’...\n",
       "2         fbi finally does its job, starts monitoring o...\n",
       "3        wow! christian author gives unexpected and bri...\n",
       "4         michael jordan ‘can no longer stay silent’ on...\n",
       "                               ...                        \n",
       "44893    trump's son says 'happy' to work with senate i...\n",
       "44894    trump declines to say if he will visit korean ...\n",
       "44895    oh the irony! nancy pelosi: “trump’s family sh...\n",
       "44896     it’s not over yet: jill stein files federal l...\n",
       "44897    “deal with facts!”: tom brokaw calls out polit...\n",
       "Name: content, Length: 44898, dtype: object"
      ]
     },
     "execution_count": 10,
     "metadata": {},
     "output_type": "execute_result"
    }
   ],
   "source": [
    "# data prepocessing (cleaning) to input coloumn (content)\n",
    "# 1. converting to lower case\n",
    "shuffled_df[\"content\"] = shuffled_df[\"content\"].str.lower()\n",
    "shuffled_df[\"content\"]"
   ]
  },
  {
   "cell_type": "code",
   "execution_count": 16,
   "id": "2ff67c83-a8e4-463b-aba1-88932bc38d91",
   "metadata": {},
   "outputs": [
    {
     "data": {
      "text/plain": [
       "0        powerful koch brothers rebuff big donors  call...\n",
       "1         trump gave a green light to sexist  lewinsky ...\n",
       "2         fbi finally does its job  starts monitoring o...\n",
       "3        wow  christian author gives unexpected and bri...\n",
       "4         michael jordan  can no longer stay silent  on...\n",
       "                               ...                        \n",
       "44893    trump s son says  happy  to work with senate i...\n",
       "44894    trump declines to say if he will visit korean ...\n",
       "44895    oh the irony  nancy pelosi   trump s family sh...\n",
       "44896     it s not over yet  jill stein files federal l...\n",
       "44897     deal with facts    tom brokaw calls out polit...\n",
       "Name: content, Length: 44898, dtype: object"
      ]
     },
     "execution_count": 16,
     "metadata": {},
     "output_type": "execute_result"
    }
   ],
   "source": [
    "# 2. remove punctuation, digits and special characters\n",
    "shuffled_df[\"content\"] = shuffled_df[\"content\"].apply(lambda x:re.sub(r'[^a-zA-Z\\s]',\" \",str(x)))\n",
    "shuffled_df[\"content\"]"
   ]
  },
  {
   "cell_type": "code",
   "execution_count": 21,
   "id": "b6141c34-1f1e-4d7d-a948-b82f09fc13cb",
   "metadata": {},
   "outputs": [
    {
     "name": "stderr",
     "output_type": "stream",
     "text": [
      "[nltk_data] Downloading package stopwords to\n",
      "[nltk_data]     C:\\Users\\prana\\AppData\\Roaming\\nltk_data...\n",
      "[nltk_data]   Package stopwords is already up-to-date!\n"
     ]
    },
    {
     "data": {
      "text/plain": [
       "0        powerful koch brothers rebuff big donors calls...\n",
       "1        trump gave green light sexist lewinsky attack ...\n",
       "2        fbi finally job starts monitoring oregon milit...\n",
       "3        wow christian author gives unexpected brillian...\n",
       "4        michael jordan longer stay silent police shoot...\n",
       "                               ...                        \n",
       "44893    trump son says happy work senate intelligence ...\n",
       "44894    trump declines say visit korean dmz asia trip ...\n",
       "44895    oh irony nancy pelosi trump family concerned h...\n",
       "44896    yet jill stein files federal lawsuit pennsylva...\n",
       "44897    deal facts tom brokaw calls political hack and...\n",
       "Name: content, Length: 44898, dtype: object"
      ]
     },
     "execution_count": 21,
     "metadata": {},
     "output_type": "execute_result"
    }
   ],
   "source": [
    "# 3. remove stopwords\n",
    "nltk.download(\"stopwords\")\n",
    "from nltk.corpus import stopwords\n",
    "\n",
    "stop_words = set(stopwords.words('english'))\n",
    "shuffled_df[\"content\"] = shuffled_df['content'].apply(lambda x: \" \".join([word for word in str(x).split() if word.lower() not in stop_words]))\n",
    "shuffled_df[\"content\"]"
   ]
  },
  {
   "cell_type": "code",
   "execution_count": 24,
   "id": "a7796d9d-2277-4a46-be66-886b7618885e",
   "metadata": {},
   "outputs": [
    {
     "data": {
      "text/plain": [
       "0        powerful koch brothers rebuff big donors calls...\n",
       "1        trump gave green light sexist lewinsky attack ...\n",
       "2        fbi finally job starts monitoring oregon milit...\n",
       "3        wow christian author gives unexpected brillian...\n",
       "4        michael jordan longer stay silent police shoot...\n",
       "                               ...                        \n",
       "44893    trump son says happy work senate intelligence ...\n",
       "44894    trump declines say visit korean dmz asia trip ...\n",
       "44895    oh irony nancy pelosi trump family concerned h...\n",
       "44896    yet jill stein files federal lawsuit pennsylva...\n",
       "44897    deal facts tom brokaw calls political hack and...\n",
       "Name: content, Length: 44898, dtype: object"
      ]
     },
     "execution_count": 24,
     "metadata": {},
     "output_type": "execute_result"
    }
   ],
   "source": [
    "# 4.remove extra white spaces\n",
    "shuffled_df[\"content\"] = shuffled_df[\"content\"].apply(lambda x: \" \".join(str(x).split()))\n",
    "shuffled_df[\"content\"]"
   ]
  },
  {
   "cell_type": "code",
   "execution_count": 32,
   "id": "43348959-b188-40d7-b4ea-d86e66e98591",
   "metadata": {},
   "outputs": [],
   "source": [
    "# feature extraction\n",
    "vectorizer = CountVectorizer()\n",
    "X = vectorizer.fit_transform(shuffled_df[\"content\"])"
   ]
  },
  {
   "cell_type": "code",
   "execution_count": 38,
   "id": "208cd08d-179b-4c59-85ad-26e39487945c",
   "metadata": {},
   "outputs": [
    {
     "name": "stdout",
     "output_type": "stream",
     "text": [
      "Accuracy: 0.995879732739421\n"
     ]
    }
   ],
   "source": [
    "y = shuffled_df.iloc[:,-2]\n",
    "X_train,X_test,y_train,y_test = train_test_split(X,y,test_size=0.2,random_state=42)\n",
    "lr = LogisticRegression()\n",
    "lr.fit(X_train,y_train)\n",
    "y_pred = lr.predict(X_test)\n",
    "print(\"Accuracy:\",accuracy_score(y_pred,y_test))"
   ]
  },
  {
   "cell_type": "code",
   "execution_count": 36,
   "id": "a6eb3e5d-02a8-49e3-a6fa-c85039e60ea7",
   "metadata": {},
   "outputs": [
    {
     "name": "stdout",
     "output_type": "stream",
     "text": [
      "[[4672   21]\n",
      " [  16 4271]]\n"
     ]
    }
   ],
   "source": [
    "print(confusion_matrix(y_pred,y_test))"
   ]
  },
  {
   "cell_type": "code",
   "execution_count": 37,
   "id": "2a262b70-a092-437f-b51e-6b534e0312d4",
   "metadata": {},
   "outputs": [
    {
     "name": "stdout",
     "output_type": "stream",
     "text": [
      "              precision    recall  f1-score   support\n",
      "\n",
      "           0       1.00      1.00      1.00      4693\n",
      "           1       1.00      1.00      1.00      4287\n",
      "\n",
      "    accuracy                           1.00      8980\n",
      "   macro avg       1.00      1.00      1.00      8980\n",
      "weighted avg       1.00      1.00      1.00      8980\n",
      "\n"
     ]
    }
   ],
   "source": [
    "print(classification_report(y_pred,y_test))"
   ]
  },
  {
   "cell_type": "code",
   "execution_count": null,
   "id": "d93c3354-3254-4f3c-8c69-d458255f3f0d",
   "metadata": {},
   "outputs": [],
   "source": []
  }
 ],
 "metadata": {
  "kernelspec": {
   "display_name": "Python 3 (ipykernel)",
   "language": "python",
   "name": "python3"
  },
  "language_info": {
   "codemirror_mode": {
    "name": "ipython",
    "version": 3
   },
   "file_extension": ".py",
   "mimetype": "text/x-python",
   "name": "python",
   "nbconvert_exporter": "python",
   "pygments_lexer": "ipython3",
   "version": "3.12.7"
  }
 },
 "nbformat": 4,
 "nbformat_minor": 5
}
